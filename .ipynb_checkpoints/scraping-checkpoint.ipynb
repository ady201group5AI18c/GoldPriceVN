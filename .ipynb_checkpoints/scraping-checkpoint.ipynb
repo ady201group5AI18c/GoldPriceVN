{
 "cells": [
  {
   "cell_type": "code",
   "execution_count": 85,
   "metadata": {},
   "outputs": [],
   "source": [
    "# Messing"
   ]
  },
  {
   "cell_type": "code",
   "execution_count": 15,
   "metadata": {},
   "outputs": [],
   "source": [
    "import requests\n",
    "from bs4 import BeautifulSoup\n",
    "import pandas as pd"
   ]
  },
  {
   "cell_type": "code",
   "execution_count": 78,
   "metadata": {},
   "outputs": [
    {
     "name": "stdout",
     "output_type": "stream",
     "text": [
      "Gold Type: PNJ, Buy Price: 73.300, Sell Price: 75.000, Update Time: 17/06/2024 08:13:04\n"
     ]
    }
   ],
   "source": [
    "def get_price_gold(day, month, year):\n",
    "    URL = f\"https://giavang.pnj.com.vn/history?gold_history_day={day}&gold_history_month={month}&gold_history_year={year}\"\n",
    "    r = requests.get(URL)\n",
    "    soup = BeautifulSoup(r.content, 'lxml')\n",
    "    # soup = BeautifulSoup(html_content, 'html.parser')\n",
    "    table = soup.find('table')\n",
    "    rows = table.find_all('tr')\n",
    "\n",
    "    tp_hcm_prices = []\n",
    "\n",
    "    # Loop through the rows and find the ones related to TPHCM\n",
    "    for row in rows:\n",
    "        cells = row.find_all('td')\n",
    "        # print(cells)\n",
    "        if cells:\n",
    "            area = cells[0].get_text(strip=True)\n",
    "            if area == 'TPHCM':\n",
    "                gold_type = cells[1].get_text(strip=True)\n",
    "                buy_price = cells[2].get_text(strip=True)\n",
    "                sell_price = cells[3].get_text(strip=True)\n",
    "                update_time = cells[4].get_text(strip=True)\n",
    "                tp_hcm_prices.append({\n",
    "                    'Type': gold_type,\n",
    "                    'Buy Price': buy_price,\n",
    "                    'Sell Price': sell_price,\n",
    "                    'Update Time': update_time\n",
    "                })\n",
    "\n",
    "    for price in tp_hcm_prices:\n",
    "        print(f\"Gold Type: {price['Type']}, Buy Price: {price['Buy Price']}, Sell Price: {price['Sell Price']}, Update Time: {price['Update Time']}\")"
   ]
  },
  {
   "cell_type": "code",
   "execution_count": 84,
   "metadata": {},
   "outputs": [
    {
     "name": "stdout",
     "output_type": "stream",
     "text": [
      "Gold prices have been saved to gold_prices.csv\n"
     ]
    }
   ],
   "source": [
    "able = soup.find('table')\n",
    "rows = table.find_all('tr')\n",
    "\n",
    "# Define lists to store the extracted data\n",
    "data = []\n",
    "\n",
    "# Loop through the rows and extract data for each gold price entry\n",
    "for row in rows[1:]:  # Skip the header row\n",
    "    cells = row.find_all('td')\n",
    "    if len(cells) == 5:  # Only process rows with 5 cells\n",
    "        khu_vuc = cells[0].get_text(strip=True)\n",
    "        loai_vang = cells[1].get_text(strip=True)\n",
    "        gia_mua = cells[2].get_text(strip=True)\n",
    "        gia_ban = cells[3].get_text(strip=True)\n",
    "        thoi_gian_cap_nhat = cells[4].get_text(strip=True)\n",
    "        \n",
    "        data.append([khu_vuc, loai_vang, gia_mua, gia_ban, thoi_gian_cap_nhat])\n",
    "    elif len(cells) == 4:  # Process rows with rowspan\n",
    "        loai_vang = cells[0].get_text(strip=True)\n",
    "        gia_mua = cells[1].get_text(strip=True)\n",
    "        gia_ban = cells[2].get_text(strip=True)\n",
    "        thoi_gian_cap_nhat = cells[3].get_text(strip=True)\n",
    "        \n",
    "        data.append([khu_vuc, loai_vang, gia_mua, gia_ban, thoi_gian_cap_nhat])\n",
    "\n",
    "# Create a DataFrame from the extracted data\n",
    "df = pd.DataFrame(data, columns=['Region', 'GoldType', 'PurchasePrice', 'SellingPrice', 'UpdateTime'])\n",
    "\n",
    "# Save the DataFrame to a CSV file\n",
    "df.to_csv('gold_prices.csv', index=False)\n",
    "\n",
    "print(\"Gold prices have been saved to gold_prices.csv\")"
   ]
  },
  {
   "cell_type": "code",
   "execution_count": 82,
   "metadata": {},
   "outputs": [],
   "source": [
    "from datetime import datetime, timedelta\n",
    "\n",
    "start_date = datetime(year=2024, month=1, day=1)\n",
    "end_date = datetime.now()\n",
    "\n",
    "current_date = start_date\n",
    "while current_date <= end_date:\n",
    "    day = current_date.day\n",
    "    month = current_date.month\n",
    "    \n",
    "    # print(day, month)\n",
    "    current_date += timedelta(days=1)"
   ]
  }
 ],
 "metadata": {
  "kernelspec": {
   "display_name": "Python 3",
   "language": "python",
   "name": "python3"
  },
  "language_info": {
   "codemirror_mode": {
    "name": "ipython",
    "version": 3
   },
   "file_extension": ".py",
   "mimetype": "text/x-python",
   "name": "python",
   "nbconvert_exporter": "python",
   "pygments_lexer": "ipython3",
   "version": "3.12.1"
  }
 },
 "nbformat": 4,
 "nbformat_minor": 2
}

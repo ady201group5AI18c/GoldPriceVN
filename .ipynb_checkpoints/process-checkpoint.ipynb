{
 "cells": [
  {
   "cell_type": "code",
   "execution_count": 3,
   "metadata": {},
   "outputs": [],
   "source": [
    "import pandas as pd\n",
    "df = pd.read_csv('ten_year.csv')"
   ]
  },
  {
   "cell_type": "code",
   "execution_count": 4,
   "metadata": {},
   "outputs": [],
   "source": [
    "df['date'] = pd.to_datetime(df['update'],format='%d/%m/%Y %H:%M:%S').dt.date\n",
    "df = df.drop(columns='update')"
   ]
  },
  {
   "cell_type": "code",
   "execution_count": 6,
   "metadata": {},
   "outputs": [],
   "source": [
    "df_pnj = df[df['type']=='PNJ']\n",
    "df_sjc = df[df['type']=='SJC']"
   ]
  },
  {
   "cell_type": "code",
   "execution_count": 10,
   "metadata": {},
   "outputs": [
    {
     "name": "stderr",
     "output_type": "stream",
     "text": [
      "<>:1: SyntaxWarning: invalid escape sequence '\\P'\n",
      "<>:2: SyntaxWarning: invalid escape sequence '\\S'\n",
      "<>:1: SyntaxWarning: invalid escape sequence '\\P'\n",
      "<>:2: SyntaxWarning: invalid escape sequence '\\S'\n",
      "C:\\Users\\LENOVO LEGION\\AppData\\Local\\Temp\\ipykernel_5868\\1120993759.py:1: SyntaxWarning: invalid escape sequence '\\P'\n",
      "  df_pnj.to_csv('data\\PNJ.csv')\n",
      "C:\\Users\\LENOVO LEGION\\AppData\\Local\\Temp\\ipykernel_5868\\1120993759.py:2: SyntaxWarning: invalid escape sequence '\\S'\n",
      "  df_sjc.to_csv('data\\SJC.csv')\n"
     ]
    }
   ],
   "source": [
    "df_pnj.to_csv('data\\PNJ.csv')\n",
    "df_sjc.to_csv('data\\SJC.csv')"
   ]
  },
  {
   "cell_type": "code",
   "execution_count": 12,
   "metadata": {},
   "outputs": [
    {
     "data": {
      "text/html": [
       "<div>\n",
       "<style scoped>\n",
       "    .dataframe tbody tr th:only-of-type {\n",
       "        vertical-align: middle;\n",
       "    }\n",
       "\n",
       "    .dataframe tbody tr th {\n",
       "        vertical-align: top;\n",
       "    }\n",
       "\n",
       "    .dataframe thead th {\n",
       "        text-align: right;\n",
       "    }\n",
       "</style>\n",
       "<table border=\"1\" class=\"dataframe\">\n",
       "  <thead>\n",
       "    <tr style=\"text-align: right;\">\n",
       "      <th></th>\n",
       "      <th>count</th>\n",
       "      <th>mean</th>\n",
       "      <th>std</th>\n",
       "      <th>min</th>\n",
       "      <th>25%</th>\n",
       "      <th>50%</th>\n",
       "      <th>75%</th>\n",
       "      <th>max</th>\n",
       "    </tr>\n",
       "    <tr>\n",
       "      <th>type</th>\n",
       "      <th></th>\n",
       "      <th></th>\n",
       "      <th></th>\n",
       "      <th></th>\n",
       "      <th></th>\n",
       "      <th></th>\n",
       "      <th></th>\n",
       "      <th></th>\n",
       "    </tr>\n",
       "  </thead>\n",
       "  <tbody>\n",
       "    <tr>\n",
       "      <th>PNJ</th>\n",
       "      <td>12121.0</td>\n",
       "      <td>42.521313</td>\n",
       "      <td>11.021850</td>\n",
       "      <td>29.50</td>\n",
       "      <td>33.46</td>\n",
       "      <td>36.12</td>\n",
       "      <td>53.10</td>\n",
       "      <td>75.7</td>\n",
       "    </tr>\n",
       "    <tr>\n",
       "      <th>SJC</th>\n",
       "      <td>12119.0</td>\n",
       "      <td>46.598107</td>\n",
       "      <td>14.522336</td>\n",
       "      <td>32.32</td>\n",
       "      <td>35.63</td>\n",
       "      <td>36.67</td>\n",
       "      <td>56.55</td>\n",
       "      <td>354.3</td>\n",
       "    </tr>\n",
       "  </tbody>\n",
       "</table>\n",
       "</div>"
      ],
      "text/plain": [
       "        count       mean        std    min    25%    50%    75%    max\n",
       "type                                                                  \n",
       "PNJ   12121.0  42.521313  11.021850  29.50  33.46  36.12  53.10   75.7\n",
       "SJC   12119.0  46.598107  14.522336  32.32  35.63  36.67  56.55  354.3"
      ]
     },
     "execution_count": 12,
     "metadata": {},
     "output_type": "execute_result"
    }
   ],
   "source": [
    "df.groupby('type')['sell'].describe()"
   ]
  }
 ],
 "metadata": {
  "kernelspec": {
   "display_name": "Python 3",
   "language": "python",
   "name": "python3"
  },
  "language_info": {
   "codemirror_mode": {
    "name": "ipython",
    "version": 3
   },
   "file_extension": ".py",
   "mimetype": "text/x-python",
   "name": "python",
   "nbconvert_exporter": "python",
   "pygments_lexer": "ipython3",
   "version": "3.12.1"
  }
 },
 "nbformat": 4,
 "nbformat_minor": 2
}

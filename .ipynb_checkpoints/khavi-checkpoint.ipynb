{
 "cells": [
  {
   "cell_type": "markdown",
   "metadata": {},
   "source": [
    "### -- Question 1 - The period during which the buying and selling prices of PNJ and SJC gold fluctuate the most."
   ]
  },
  {
   "cell_type": "code",
   "execution_count": 2,
   "metadata": {},
   "outputs": [
    {
     "name": "stdout",
     "output_type": "stream",
     "text": [
      "  type  max_buy_price_change  max_sell_price_change max_buy_price_change_date  \\\n",
      "0  PNJ                   5.4                    5.4                2020-08-12   \n",
      "1  SJC                 506.2                  318.9                2020-07-27   \n",
      "\n",
      "  max_sell_price_change_date  \n",
      "0                 2020-08-12  \n",
      "1                 2016-10-10  \n"
     ]
    }
   ],
   "source": [
    "import pandas as pd \n",
    "from sqlalchemy import create_engine\n",
    "\n",
    "# Đọc dữ liệu từ tệp CSV vào DataFrame \n",
    "df = pd.read_csv(r\"data/ten_year.csv\")\n",
    "\n",
    "# Tạo kết nối tới database SQLite trong bộ nhớ\n",
    "engine = create_engine('sqlite://', echo=False)\n",
    "\n",
    "# Lưu DataFrame vào database\n",
    "df.to_sql('gold_prices', engine, index=False, if_exists='replace')\n",
    "\n",
    "# Định nghĩa truy vấn SQL (đã điều chỉnh để sử dụng MAX và MIN chỉ khi phù hợp)\n",
    "query = \"\"\" \n",
    "WITH PriceChanges AS (\n",
    "    SELECT type, buy, sell, date,\n",
    "        LAG(buy) OVER (PARTITION BY type ORDER BY date) AS prev_buy_price,\n",
    "        LAG(sell) OVER (PARTITION BY type ORDER BY date) AS prev_sell_price,\n",
    "        LEAD(buy) OVER (PARTITION BY type ORDER BY date) AS next_buy_price,\n",
    "        LEAD(sell) OVER (PARTITION BY type ORDER BY date) AS next_sell_price\n",
    "    FROM gold_prices\n",
    "),\n",
    "MaxChanges AS (\n",
    "    SELECT type, MAX(ABS(next_buy_price - prev_buy_price)) AS max_buy_price_change, MAX(ABS(next_sell_price - prev_sell_price)) AS max_sell_price_change\n",
    "    FROM PriceChanges\n",
    "    GROUP BY type\n",
    ")\n",
    "SELECT pc.type, mc.max_buy_price_change, mc.max_sell_price_change,\n",
    "    MIN(CASE WHEN ABS(pc.next_buy_price - pc.prev_buy_price) = mc.max_buy_price_change THEN pc.date END) AS max_buy_price_change_date,\n",
    "    MIN(CASE WHEN ABS(pc.next_sell_price - pc.prev_sell_price) = mc.max_sell_price_change THEN pc.date END) AS max_sell_price_change_date\n",
    "FROM PriceChanges pc\n",
    "JOIN MaxChanges mc ON pc.type = mc.type\n",
    "GROUP BY pc.type, mc.max_buy_price_change, mc.max_sell_price_change;\n",
    "\"\"\"\n",
    "\n",
    "# Thực hiện truy vấn SQL trên DataFrame \n",
    "result = pd.read_sql_query(query, engine)\n",
    "\n",
    "# Hiển thị kết quả \n",
    "print(result)\n"
   ]
  },
  {
   "cell_type": "markdown",
   "metadata": {},
   "source": [
    "### Question 2 - The fluctuations in the buying and selling prices of PNJ and SJC on the day with the most updates."
   ]
  },
  {
   "cell_type": "code",
   "execution_count": 3,
   "metadata": {},
   "outputs": [
    {
     "name": "stdout",
     "output_type": "stream",
     "text": [
      "         date type  update_count  max_buy_PNJ  min_sell_PNJ  max_buy_SJC  \\\n",
      "0  2022-02-24  PNJ             7         55.7          54.2          NaN   \n",
      "1  2022-02-24  SJC            18          NaN           NaN         66.9   \n",
      "\n",
      "   min_sell_SJC  \n",
      "0           NaN  \n",
      "1          63.5  \n"
     ]
    }
   ],
   "source": [
    "import pandas as pd \n",
    "from sqlalchemy import create_engine\n",
    "\n",
    "# Đọc dữ liệu từ tệp CSV vào DataFrame \n",
    "df = pd.read_csv(r\"data/ten_year.csv\")\n",
    "\n",
    "# Tạo kết nối tới database SQLite trong bộ nhớ\n",
    "engine = create_engine('sqlite://', echo=False)\n",
    "\n",
    "# Lưu DataFrame vào database\n",
    "df.to_sql('gold_prices', engine, index=False, if_exists='replace')\n",
    "\n",
    "# Định nghĩa truy vấn SQL (đã điều chỉnh để sử dụng MAX và MIN chỉ khi phù hợp)\n",
    "query = \"\"\" \n",
    "WITH update_count AS (\n",
    "    SELECT date, type, COUNT(*) AS update_count\n",
    "    FROM gold_prices\n",
    "    GROUP BY date, type\n",
    ")\n",
    "SELECT uc.date, uc.type, uc.update_count,\n",
    "    MAX(CASE WHEN uc.type = 'PNJ' THEN gp.buy END) AS max_buy_PNJ,\n",
    "    MIN(CASE WHEN uc.type = 'PNJ' THEN gp.sell END) AS min_sell_PNJ,\n",
    "    MAX(CASE WHEN uc.type = 'SJC' THEN gp.buy END) AS max_buy_SJC,\n",
    "    MIN(CASE WHEN uc.type = 'SJC' THEN gp.sell END) AS min_sell_SJC\n",
    "FROM update_count uc\n",
    "JOIN gold_prices gp ON uc.date = gp.date AND uc.type = gp.type\n",
    "WHERE uc.date = (\n",
    "    SELECT date\n",
    "    FROM update_count\n",
    "    ORDER BY update_count DESC\n",
    "    LIMIT 1\n",
    ")\n",
    "GROUP BY uc.date, uc.type, uc.update_count\n",
    "ORDER BY uc.date, uc.type;\n",
    "\"\"\"\n",
    "# Thực hiện truy vấn SQL trên DataFrame \n",
    "result = pd.read_sql_query(query, engine)\n",
    "\n",
    "# Hiển thị kết quả \n",
    "print(result)\n"
   ]
  },
  {
   "cell_type": "markdown",
   "metadata": {},
   "source": [
    "### Question 3 - Comparison of the stability of buying and selling prices between PNJ and SJC."
   ]
  },
  {
   "cell_type": "code",
   "execution_count": 5,
   "metadata": {},
   "outputs": [
    {
     "name": "stdout",
     "output_type": "stream",
     "text": [
      "  type    avg_buy   avg_sell  stdev_buy  stdev_sell\n",
      "0  PNJ  44.074809  43.379192  11.297830   11.016432\n",
      "1  SJC  47.880957  47.348254  15.909679   14.908578\n"
     ]
    }
   ],
   "source": [
    "import pandas as pd \n",
    "from sqlalchemy import create_engine\n",
    "\n",
    "# Đọc dữ liệu từ tệp CSV vào DataFrame \n",
    "df = pd.read_csv(r\"data/ten_year.csv\")\n",
    "\n",
    "# Tạo kết nối tới database SQLite trong bộ nhớ\n",
    "engine = create_engine('sqlite://', echo=False)\n",
    "\n",
    "# Lưu DataFrame vào database\n",
    "df.to_sql('gold_prices', engine, index=False, if_exists='replace')\n",
    "\n",
    "# Định nghĩa truy vấn SQL (đã điều chỉnh để sử dụng MAX và MIN chỉ khi phù hợp)\n",
    "query = \"\"\" \n",
    "SELECT \n",
    "    type,\n",
    "    AVG(buy) AS avg_buy,\n",
    "    AVG(sell) AS avg_sell,\n",
    "    SQRT(SUM((buy - (SELECT AVG(buy) FROM gold_prices)) * (buy - (SELECT AVG(buy) FROM gold_prices))) / COUNT(*)) AS stdev_buy,\n",
    "    SQRT(SUM((sell - (SELECT AVG(sell) FROM gold_prices)) * (sell - (SELECT AVG(sell) FROM gold_prices))) / COUNT(*)) AS stdev_sell\n",
    "FROM gold_prices\n",
    "GROUP BY type;\n",
    "\"\"\"\n",
    "\n",
    "\n",
    "\n",
    "# Thực hiện truy vấn SQL trên DataFrame \n",
    "result = pd.read_sql_query(query, engine)\n",
    "\n",
    "# Hiển thị kết quả \n",
    "print(result)\n"
   ]
  }
 ],
 "metadata": {
  "kernelspec": {
   "display_name": "Python 3",
   "language": "python",
   "name": "python3"
  },
  "language_info": {
   "codemirror_mode": {
    "name": "ipython",
    "version": 3
   },
   "file_extension": ".py",
   "mimetype": "text/x-python",
   "name": "python",
   "nbconvert_exporter": "python",
   "pygments_lexer": "ipython3",
   "version": "3.12.1"
  }
 },
 "nbformat": 4,
 "nbformat_minor": 2
}
